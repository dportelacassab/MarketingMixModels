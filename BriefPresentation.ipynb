{
 "cells": [
  {
   "cell_type": "markdown",
   "id": "8fc831ba",
   "metadata": {},
   "source": [
    "# Excecutive Statistical Report"
   ]
  },
  {
   "cell_type": "markdown",
   "id": "73b92236",
   "metadata": {},
   "source": [
    "<font color='green'> Objective</font>: Explain my model's results to the business stakeholders so you can make desicions and invest wisely."
   ]
  },
  {
   "cell_type": "markdown",
   "id": "5e026971",
   "metadata": {},
   "source": [
    "- Unit Sales := 'Total daily product sales for each Product ID'\n",
    "\n",
    "### Media Channels' impressions (spending)\n",
    "\n",
    "- Search Impressions := 'Total <font color='red'>paid</font> search impressions delivered daily'\n",
    "\n",
    "- Search Clicks := 'Total <font color='red'>paid</font> search clicks delivered daily'\n",
    "\n",
    "- Display Impressions := 'Total <font color='red'>paid</font> display impressions delivered daily'\n",
    "\n",
    "- Display Clicks := 'Total <font color='red'>paid</font> display clicks delivered daily'\n",
    "\n",
    "### Control Variables\n",
    "- Average Sales Price := 'Average selling price for the units sold'\n",
    "\n",
    "- Radio Spots := 'Total campaign radio ad spots daily'\n",
    "\n",
    "- Daily site visits := 'Total visits to the website'\n",
    "\n",
    "- Pages per visit := 'Average pages viewed per visit'\n",
    "\n",
    "- Bounce rate := 'Rate at which consumers left the website after a single page view'"
   ]
  },
  {
   "cell_type": "markdown",
   "id": "2523019d",
   "metadata": {},
   "source": [
    "# Option 1\n",
    "\n",
    "Increase the <font color='blue'> Total paid search clicks delivered Daily</font> and help increase the amount of people that click the webpage of HP will have a direct positive impact to sales."
   ]
  },
  {
   "cell_type": "markdown",
   "id": "20a2865a",
   "metadata": {},
   "source": [
    "This plot shows you the importance of each variable to the sales.\n",
    "And the final model chosen informed us to boost with the total paid search clicks delivered daily and with total visits to the website."
   ]
  },
  {
   "cell_type": "code",
   "execution_count": 2,
   "id": "d65b5f67",
   "metadata": {},
   "outputs": [
    {
     "data": {
      "text/html": [
       "<img src=\"FeatureImportance.png\" width=\"300\" height=\"10\"/>"
      ],
      "text/plain": [
       "<IPython.core.display.Image object>"
      ]
     },
     "execution_count": 2,
     "metadata": {},
     "output_type": "execute_result"
    }
   ],
   "source": [
    "from IPython.display import Image\n",
    "Image(url=\"FeatureImportance.png\", width=300, height=10)"
   ]
  },
  {
   "cell_type": "markdown",
   "id": "80e6fd7a",
   "metadata": {},
   "source": [
    "Limitations: Model used here was too basic (Regression Analysis). No time dependence considered.\n",
    "\n",
    "Aids: Fast to implement and simple to interpret."
   ]
  },
  {
   "cell_type": "markdown",
   "id": "307152b9",
   "metadata": {},
   "source": [
    "# Option 2\n",
    "\n",
    "Increase the display impression media channel."
   ]
  },
  {
   "cell_type": "code",
   "execution_count": 6,
   "id": "7ee98505",
   "metadata": {},
   "outputs": [
    {
     "data": {
      "text/html": [
       "<img src=\"model2.png\" width=\"600\" height=\"10\"/>"
      ],
      "text/plain": [
       "<IPython.core.display.Image object>"
      ]
     },
     "execution_count": 6,
     "metadata": {},
     "output_type": "execute_result"
    }
   ],
   "source": [
    "Image(url=\"model2.png\", width=600, height=10)"
   ]
  },
  {
   "cell_type": "markdown",
   "id": "9b2eaa4a",
   "metadata": {},
   "source": [
    "Limitations: Model used here had an intermediate level of implementation. Not to slow not too fast.\n",
    "\n",
    "Aids: Not that intricate to interpret."
   ]
  },
  {
   "cell_type": "markdown",
   "id": "3fb41f7d",
   "metadata": {},
   "source": [
    "# Option 3\n",
    "\n"
   ]
  },
  {
   "cell_type": "markdown",
   "id": "6e13461a",
   "metadata": {},
   "source": [
    "Limitations: Detailed model with lots of specifications. Convergence issues of the parameters and not so good key performance indicators.\n",
    "\n",
    "Aids: Wider interpretation."
   ]
  }
 ],
 "metadata": {
  "kernelspec": {
   "display_name": "Python 3 (ipykernel)",
   "language": "python",
   "name": "python3"
  },
  "language_info": {
   "codemirror_mode": {
    "name": "ipython",
    "version": 3
   },
   "file_extension": ".py",
   "mimetype": "text/x-python",
   "name": "python",
   "nbconvert_exporter": "python",
   "pygments_lexer": "ipython3",
   "version": "3.7.12"
  }
 },
 "nbformat": 4,
 "nbformat_minor": 5
}
